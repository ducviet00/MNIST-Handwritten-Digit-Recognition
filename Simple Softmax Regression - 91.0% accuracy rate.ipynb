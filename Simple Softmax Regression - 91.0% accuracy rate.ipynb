{
 "cells": [
  {
   "cell_type": "code",
   "execution_count": 1,
   "metadata": {
    "colab": {},
    "colab_type": "code",
    "id": "uptw010knZtb"
   },
   "outputs": [],
   "source": [
    "import numpy as np \n",
    "import math\n",
    "import pandas as pd\n",
    "import matplotlib.pyplot as plt\n",
    "import matplotlib\n",
    "import sklearn.datasets\n",
    "from sklearn.metrics import accuracy_score, confusion_matrix\n",
    "from sklearn.model_selection import train_test_split\n",
    "import itertools\n",
    "%matplotlib inline"
   ]
  },
  {
   "cell_type": "code",
   "execution_count": 2,
   "metadata": {
    "colab": {},
    "colab_type": "code",
    "id": "PJP33AuRoyDo"
   },
   "outputs": [],
   "source": [
    "train = pd.read_csv(\"./digit-recognizer/train.csv\")\n",
    "#test = pd.read_csv(\"/content/drive/My Drive/20192/digit-recognizer/test.csv\")\n",
    "\n",
    "Y_train = train[\"label\"]\n",
    "\n",
    "# Drop 'label' column\n",
    "X_train = train.drop(labels = [\"label\"],axis = 1)\n",
    "\n",
    "# Free some space\n",
    "del train\n",
    "\n",
    "# Normalize the data\n",
    "X_train = np.array(X_train) / 255.0\n",
    "# One-hot coding\n",
    "#from keras.utils.np_utils import to_categorical\n",
    "#Y_train = to_categorical(Y_train, num_classes = 10)\n",
    "X_train, X_val, Y_train, Y_val = train_test_split(X_train, Y_train, test_size = 0.1, random_state=2)"
   ]
  },
  {
   "cell_type": "code",
   "execution_count": 3,
   "metadata": {},
   "outputs": [],
   "source": [
    "def to_categorical(y, num_classes, dtype='float32'):\n",
    "    #from keras utils\n",
    "    y = np.array(y, dtype='int')\n",
    "    input_shape = y.shape\n",
    "    if input_shape and input_shape[-1] == 1 and len(input_shape) > 1:\n",
    "        input_shape = tuple(input_shape[:-1])\n",
    "    y = y.ravel()\n",
    "    if not num_classes:\n",
    "        num_classes = np.max(y) + 1\n",
    "    n = y.shape[0]\n",
    "    categorical = np.zeros((n, num_classes), dtype=dtype)\n",
    "    categorical[np.arange(n), y] = 1\n",
    "    output_shape = input_shape + (num_classes,)\n",
    "    categorical = np.reshape(categorical, output_shape)\n",
    "    return categorical"
   ]
  },
  {
   "cell_type": "code",
   "execution_count": 4,
   "metadata": {
    "colab": {},
    "colab_type": "code",
    "id": "kWDfyb0OipTn"
   },
   "outputs": [],
   "source": [
    "# One-hot coding\n",
    "Y_train = to_categorical(Y_train, num_classes = 10)\n",
    "Y_val = to_categorical(Y_val, num_classes = 10)\n",
    "\n",
    "# Transpose X, Y\n",
    "X_train = np.array(X_train.T)\n",
    "Y_train = np.array(Y_train.T)\n",
    "X_val = np.array(X_val.T)\n",
    "Y_val = np.array(Y_val.T)"
   ]
  },
  {
   "cell_type": "code",
   "execution_count": 5,
   "metadata": {
    "colab": {
     "base_uri": "https://localhost:8080/",
     "height": 85
    },
    "colab_type": "code",
    "id": "kJUyU9SUwU_u",
    "outputId": "5f430a16-418f-4353-894d-b73f9a194992"
   },
   "outputs": [
    {
     "name": "stdout",
     "output_type": "stream",
     "text": [
      "X_train.shape = (784, 37800)\n",
      "Y_train.shape = (10, 37800)\n",
      "X_val.shape = (784, 4200)\n",
      "Y_val.shape = (10, 4200)\n"
     ]
    }
   ],
   "source": [
    "# Check shape of X, Y\n",
    "print (\"X_train.shape = \" + str(X_train.shape)\n",
    "        + \"\\nY_train.shape = \" + str(Y_train.shape))\n",
    "print (\"X_val.shape = \" + str(X_val.shape)\n",
    "        + \"\\nY_val.shape = \" + str(Y_val.shape))"
   ]
  },
  {
   "cell_type": "code",
   "execution_count": 6,
   "metadata": {
    "colab": {},
    "colab_type": "code",
    "id": "konnr2vYiyY2"
   },
   "outputs": [],
   "source": [
    "# Define the number of the nodes in the input layer and output layer\n",
    "n_x = X_train.shape[0]\n",
    "n_y = Y_train.shape[0]"
   ]
  },
  {
   "cell_type": "code",
   "execution_count": 7,
   "metadata": {
    "colab": {},
    "colab_type": "code",
    "id": "XGB1FWhwnrBJ"
   },
   "outputs": [],
   "source": [
    "def initialize_parameters(n_x, n_y):\n",
    "  W = np.random.randn(n_y, n_x) * 0.01\n",
    "  b = np.zeros(shape=(n_y,1))\n",
    "  \n",
    "  parameters = {\"W\" : W,\n",
    "                \"b\" : b}\n",
    "  return parameters"
   ]
  },
  {
   "cell_type": "code",
   "execution_count": 8,
   "metadata": {
    "colab": {},
    "colab_type": "code",
    "id": "wEQVWpCls85s"
   },
   "outputs": [],
   "source": [
    "def theta(z):\n",
    "  s = np.exp(z) / np.sum(np.exp(z), axis=0)\n",
    "  return s"
   ]
  },
  {
   "cell_type": "code",
   "execution_count": 9,
   "metadata": {
    "colab": {},
    "colab_type": "code",
    "id": "TiCMjA0dqIXt"
   },
   "outputs": [],
   "source": [
    "def forward_propagation(X, parameters_X):\n",
    "    W = parameters_X[\"W\"]\n",
    "    b = parameters_X[\"b\"]\n",
    "\n",
    "    Z = np.dot(W, X) + b\n",
    "    A = theta(Z)\n",
    "\n",
    "    cache = {\"A\" : A,\n",
    "             \"Z\" : Z}\n",
    "    return A, cache"
   ]
  },
  {
   "cell_type": "code",
   "execution_count": 10,
   "metadata": {
    "colab": {},
    "colab_type": "code",
    "id": "QLp38unw0M-b"
   },
   "outputs": [],
   "source": [
    "def compute_cost(A, Y):\n",
    "    m = Y.shape[1]      #number of training examples\n",
    "    loss = - np.sum(np.multiply(Y, np.log(A)))\n",
    "    cost = loss / m\n",
    "    cost = np.squeeze(cost)  \n",
    "\n",
    "    return cost"
   ]
  },
  {
   "cell_type": "code",
   "execution_count": 11,
   "metadata": {
    "colab": {},
    "colab_type": "code",
    "id": "bVD5SiJ6zuCt"
   },
   "outputs": [],
   "source": [
    "def backward_propagation(X, Y, parameters, cache):\n",
    "    W = parameters[\"W\"]\n",
    "    b = parameters[\"b\"]\n",
    "    A = cache[\"A\"]\n",
    "    m = X.shape[1]\n",
    "\n",
    "    dZ = A - Y\n",
    "    dW = (1 / m) * np.dot(dZ, X.T)\n",
    "    db = (1 / m) * np.sum(dZ, axis=1, keepdims=True)\n",
    "    \n",
    "    grads = {\"dW\" : dW,\n",
    "            \"db\" : db}\n",
    "    return grads"
   ]
  },
  {
   "cell_type": "code",
   "execution_count": 12,
   "metadata": {
    "colab": {},
    "colab_type": "code",
    "id": "aC6FoBBe2Jee"
   },
   "outputs": [],
   "source": [
    "def update_parameters(parameters, grads, learning_rate = 0.5):\n",
    "    W = parameters[\"W\"]\n",
    "    b = parameters[\"b\"]\n",
    "\n",
    "    dW = grads[\"dW\"]\n",
    "    db = grads[\"db\"]\n",
    "\n",
    "    W = W - learning_rate * dW\n",
    "    b = b - learning_rate * db\n",
    "\n",
    "    parameters = {\"W\" : W,\n",
    "                  \"b\" : b}\n",
    "\n",
    "    return parameters"
   ]
  },
  {
   "cell_type": "code",
   "execution_count": 13,
   "metadata": {
    "colab": {},
    "colab_type": "code",
    "id": "c_zTmm_p-f6w"
   },
   "outputs": [],
   "source": [
    "def random_mini_batches(X, Y, mini_batch_size=64, seed=0):\n",
    "    m = X.shape[1]\n",
    "    mini_batches = []\n",
    "    np.random.seed(seed)\n",
    "\n",
    "    # Shuffle (X, Y)\n",
    "    permutation = list(np.random.permutation(m))\n",
    "    shuffled_X = X[:, permutation]\n",
    "    shuffled_Y = Y[:, permutation].reshape((10,m))\n",
    "\n",
    "    num_complete_minibatches = math.floor(m / mini_batch_size) \n",
    "\n",
    "    #Partition \n",
    "    for k in range(0, num_complete_minibatches):\n",
    "        mini_batch_X = shuffled_X[:, k * mini_batch_size:(k+1) \n",
    "                                    * mini_batch_size]\n",
    "        mini_batch_Y = shuffled_Y[:, k * mini_batch_size:(k+1)\n",
    "                                    * mini_batch_size]\n",
    "        mini_batch = (mini_batch_X, mini_batch_Y)\n",
    "        mini_batches.append(mini_batch)\n",
    "\n",
    "    if m % mini_batch_size !=0:\n",
    "        end = m - mini_batch_size * math.floor(m / mini_batch_size)\n",
    "        mini_batch_X = shuffled_X[:, num_complete_minibatches\n",
    "                                    * mini_batch_size:]\n",
    "        mini_batch_Y = shuffled_Y[:, num_complete_minibatches\n",
    "                                    * mini_batch_size:]\n",
    "        mini_batch = (mini_batch_X, mini_batch_Y)\n",
    "        mini_batches.append(mini_batch)\n",
    "\n",
    "    return mini_batches\n"
   ]
  },
  {
   "cell_type": "code",
   "execution_count": 19,
   "metadata": {
    "colab": {},
    "colab_type": "code",
    "id": "4qPMmvXE2tPT"
   },
   "outputs": [],
   "source": [
    "def sm_model(X, Y, num_epochs=10000, learning_rate=0.05, mini_batch_size=64, \n",
    "             print_cost=False):\n",
    "    parameters = initialize_parameters(n_x, n_y)\n",
    "    W = parameters[\"W\"]\n",
    "    b = parameters[\"b\"]\n",
    "    seed = 14\n",
    "    m = X.shape[1]\n",
    "    costs = []\n",
    "\n",
    "    for i in range(num_epochs):\n",
    "        seed = seed + 1\n",
    "        minibatches = random_mini_batches(X, Y, mini_batch_size, seed)\n",
    "        cost_total = 0\n",
    "\n",
    "        for minibatch in minibatches:\n",
    "            #Select a minibatch\n",
    "            (minibatch_X, minibatch_Y) = minibatch\n",
    "\n",
    "            #foward propagation\n",
    "            A, cache = forward_propagation(minibatch_X, parameters)\n",
    "\n",
    "            cost_total += compute_cost(A, minibatch_Y)\n",
    "            #backward propagation\n",
    "            grads = backward_propagation(minibatch_X, minibatch_Y, parameters,\n",
    "                                         cache)\n",
    "\n",
    "            #update parameter\n",
    "            parameters = update_parameters(parameters, grads, learning_rate)\n",
    "\n",
    "        cost_avg = cost_total / len(minibatches)\n",
    "        if print_cost :\n",
    "            print (\"Cost after iteration %i: %f\" % (i, cost_avg))\n",
    "        if print_cost :\n",
    "            costs.append(cost_avg)\n",
    "\n",
    "    plt.plot(costs)\n",
    "    plt.ylabel('cost')\n",
    "    plt.xlabel('epochs (per 100)')\n",
    "    plt.title(\"Learning rate = \" + str(learning_rate))\n",
    "    plt.show()\n",
    "    return parameters"
   ]
  },
  {
   "cell_type": "code",
   "execution_count": 15,
   "metadata": {
    "colab": {},
    "colab_type": "code",
    "id": "88yG1ejc4AUr"
   },
   "outputs": [],
   "source": [
    "def predict(parameters, X):\n",
    "    A, cache = forward_propagation(X, parameters)\n",
    "    predictions = np.round(A)\n",
    "    return predictions"
   ]
  },
  {
   "cell_type": "code",
   "execution_count": 20,
   "metadata": {
    "colab": {
     "base_uri": "https://localhost:8080/",
     "height": 720
    },
    "colab_type": "code",
    "id": "8D3gVf_RldHF",
    "outputId": "1b71cef8-81ed-452c-d5ea-ca89c4d593d9"
   },
   "outputs": [
    {
     "name": "stdout",
     "output_type": "stream",
     "text": [
      "Cost after iteration 0: 0.533536\n",
      "Cost after iteration 1: 0.354604\n",
      "Cost after iteration 2: 0.325941\n",
      "Cost after iteration 3: 0.310493\n",
      "Cost after iteration 4: 0.300660\n",
      "Cost after iteration 5: 0.293559\n",
      "Cost after iteration 6: 0.287974\n",
      "Cost after iteration 7: 0.283302\n",
      "Cost after iteration 8: 0.279682\n",
      "Cost after iteration 9: 0.276693\n",
      "Cost after iteration 10: 0.273963\n",
      "Cost after iteration 11: 0.271217\n",
      "Cost after iteration 12: 0.268641\n",
      "Cost after iteration 13: 0.267411\n",
      "Cost after iteration 14: 0.264935\n",
      "Cost after iteration 15: 0.263179\n",
      "Cost after iteration 16: 0.261602\n",
      "Cost after iteration 17: 0.260378\n",
      "Cost after iteration 18: 0.259009\n",
      "Cost after iteration 19: 0.257661\n",
      "Cost after iteration 20: 0.256853\n",
      "Cost after iteration 21: 0.255616\n",
      "Cost after iteration 22: 0.254980\n",
      "Cost after iteration 23: 0.253437\n",
      "Cost after iteration 24: 0.252211\n",
      "Cost after iteration 25: 0.251655\n",
      "Cost after iteration 26: 0.250847\n",
      "Cost after iteration 27: 0.250295\n",
      "Cost after iteration 28: 0.249006\n",
      "Cost after iteration 29: 0.248586\n",
      "Cost after iteration 30: 0.247750\n",
      "Cost after iteration 31: 0.247097\n",
      "Cost after iteration 32: 0.246274\n",
      "Cost after iteration 33: 0.245732\n",
      "Cost after iteration 34: 0.245336\n",
      "Cost after iteration 35: 0.244433\n",
      "Cost after iteration 36: 0.244104\n",
      "Cost after iteration 37: 0.243371\n",
      "Cost after iteration 38: 0.243108\n",
      "Cost after iteration 39: 0.242554\n",
      "Cost after iteration 40: 0.241670\n",
      "Cost after iteration 41: 0.241455\n",
      "Cost after iteration 42: 0.240753\n",
      "Cost after iteration 43: 0.240569\n",
      "Cost after iteration 44: 0.239804\n",
      "Cost after iteration 45: 0.239652\n",
      "Cost after iteration 46: 0.238930\n",
      "Cost after iteration 47: 0.238783\n",
      "Cost after iteration 48: 0.238417\n",
      "Cost after iteration 49: 0.237900\n",
      "Cost after iteration 50: 0.237086\n",
      "Cost after iteration 51: 0.236977\n",
      "Cost after iteration 52: 0.236850\n",
      "Cost after iteration 53: 0.236510\n",
      "Cost after iteration 54: 0.236475\n",
      "Cost after iteration 55: 0.235512\n",
      "Cost after iteration 56: 0.235230\n",
      "Cost after iteration 57: 0.235159\n",
      "Cost after iteration 58: 0.234849\n",
      "Cost after iteration 59: 0.234766\n",
      "Cost after iteration 60: 0.234084\n",
      "Cost after iteration 61: 0.233891\n",
      "Cost after iteration 62: 0.233461\n",
      "Cost after iteration 63: 0.232802\n",
      "Cost after iteration 64: 0.232838\n",
      "Cost after iteration 65: 0.232705\n",
      "Cost after iteration 66: 0.232320\n",
      "Cost after iteration 67: 0.231834\n",
      "Cost after iteration 68: 0.231811\n",
      "Cost after iteration 69: 0.231472\n",
      "Cost after iteration 70: 0.231102\n",
      "Cost after iteration 71: 0.231351\n",
      "Cost after iteration 72: 0.230866\n",
      "Cost after iteration 73: 0.230102\n",
      "Cost after iteration 74: 0.230470\n",
      "Cost after iteration 75: 0.229742\n",
      "Cost after iteration 76: 0.229418\n",
      "Cost after iteration 77: 0.229806\n",
      "Cost after iteration 78: 0.229348\n",
      "Cost after iteration 79: 0.229010\n",
      "Cost after iteration 80: 0.228879\n",
      "Cost after iteration 81: 0.228729\n",
      "Cost after iteration 82: 0.228197\n",
      "Cost after iteration 83: 0.227836\n",
      "Cost after iteration 84: 0.227932\n",
      "Cost after iteration 85: 0.227374\n",
      "Cost after iteration 86: 0.227215\n",
      "Cost after iteration 87: 0.227383\n",
      "Cost after iteration 88: 0.227063\n",
      "Cost after iteration 89: 0.226854\n",
      "Cost after iteration 90: 0.226891\n",
      "Cost after iteration 91: 0.226685\n",
      "Cost after iteration 92: 0.226283\n",
      "Cost after iteration 93: 0.226540\n",
      "Cost after iteration 94: 0.225926\n",
      "Cost after iteration 95: 0.225811\n",
      "Cost after iteration 96: 0.225393\n",
      "Cost after iteration 97: 0.225455\n",
      "Cost after iteration 98: 0.224749\n",
      "Cost after iteration 99: 0.225118\n"
     ]
    },
    {
     "data": {
      "image/png": "[encoded data removed]",
      "text/plain": [
       "<Figure size 432x288 with 1 Axes>"
      ]
     },
     "metadata": {
      "needs_background": "light"
     },
     "output_type": "display_data"
    }
   ],
   "source": [
    "parameters_model = sm_model(X_train, Y_train, num_epochs=100,\n",
    "                            learning_rate=0.05, mini_batch_size=32,\n",
    "                            print_cost=True)"
   ]
  },
  {
   "cell_type": "code",
   "execution_count": 21,
   "metadata": {
    "colab": {
     "base_uri": "https://localhost:8080/",
     "height": 282
    },
    "colab_type": "code",
    "id": "mxqgmqain-UP",
    "outputId": "e2fe2fa0-f017-4e97-fb24-035603f57257"
   },
   "outputs": [
    {
     "data": {
      "image/png": "[encoded data removed]",
      "text/plain": [
       "<Figure size 432x288 with 1 Axes>"
      ]
     },
     "metadata": {
      "needs_background": "light"
     },
     "output_type": "display_data"
    },
    {
     "name": "stdout",
     "output_type": "stream",
     "text": [
      "6\n",
      "6\n"
     ]
    }
   ],
   "source": [
    "Y_hat = predict(parameters_model, X_val)\n",
    "\n",
    "# Print image\n",
    "image_id = 188\n",
    "plt.imshow(X_val[:, image_id].reshape(28,28), cmap=matplotlib.cm.binary)\n",
    "plt.axis(\"off\")\n",
    "plt.show()\n",
    "\n",
    "# Prediction\n",
    "Y_hat_label = np.argmax(Y_hat, axis=0)\n",
    "print(Y_hat_label[image_id])\n",
    "\n",
    "# True label\n",
    "Y_val_label = np.argmax(Y_val, axis=0)\n",
    "print(Y_val_label[image_id])\n"
   ]
  },
  {
   "cell_type": "code",
   "execution_count": 22,
   "metadata": {
    "colab": {
     "base_uri": "https://localhost:8080/",
     "height": 34
    },
    "colab_type": "code",
    "id": "P-ySPdjmUjvv",
    "outputId": "124080c0-64f6-4132-cfd0-95a835e50feb"
   },
   "outputs": [
    {
     "name": "stdout",
     "output_type": "stream",
     "text": [
      "Model accuracy score: 91.00\n"
     ]
    }
   ],
   "source": [
    "# Prediction accuracy\n",
    "score = 100 * accuracy_score(Y_val_label, Y_hat_label)\n",
    "print(\"Model accuracy score: %0.2f\" %score)"
   ]
  }
 ],
 "metadata": {
  "colab": {
   "collapsed_sections": [],
   "name": "MNIST-handwritten number.ipynb",
   "provenance": []
  },
  "kernelspec": {
   "display_name": "Python 3",
   "language": "python",
   "name": "python3"
  },
  "language_info": {
   "codemirror_mode": {
    "name": "ipython",
    "version": 3
   },
   "file_extension": ".py",
   "mimetype": "text/x-python",
   "name": "python",
   "nbconvert_exporter": "python",
   "pygments_lexer": "ipython3",
   "version": "3.7.6"
  }
 },
 "nbformat": 4,
 "nbformat_minor": 1
}
