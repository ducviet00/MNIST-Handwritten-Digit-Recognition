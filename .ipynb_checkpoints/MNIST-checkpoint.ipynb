{
 "cells": [
  {
   "cell_type": "code",
   "execution_count": 1,
   "metadata": {
    "colab": {},
    "colab_type": "code",
    "id": "uptw010knZtb"
   },
   "outputs": [],
   "source": [
    "import numpy as np\n",
    "import pandas as pd\n",
    "from matplotlib.pyplot import imread\n",
    "from mnist_utils import *\n",
    "from data_processing import load_data\n",
    "\n",
    "%matplotlib inline"
   ]
  },
  {
   "cell_type": "code",
   "execution_count": 2,
   "metadata": {},
   "outputs": [],
   "source": [
    "X_train, Y_train, X_val, Y_val = load_data()"
   ]
  },
  {
   "cell_type": "code",
   "execution_count": 3,
   "metadata": {
    "colab": {},
    "colab_type": "code",
    "id": "PJP33AuRoyDo"
   },
   "outputs": [
    {
     "name": "stdout",
     "output_type": "stream",
     "text": [
      "Cost average after iteration 0: 1.669501\n",
      "Cost average after iteration 1: 0.384267\n",
      "Cost average after iteration 2: 0.211046\n",
      "Cost average after iteration 3: 0.150155\n",
      "Cost average after iteration 4: 0.115033\n",
      "Cost average after iteration 5: 0.094226\n",
      "Cost average after iteration 6: 0.079520\n",
      "Cost average after iteration 7: 0.064882\n",
      "Cost average after iteration 8: 0.053265\n",
      "Cost average after iteration 9: 0.044783\n",
      "Cost average after iteration 10: 0.040123\n",
      "Cost average after iteration 11: 0.033478\n",
      "Cost average after iteration 12: 0.027443\n",
      "Cost average after iteration 13: 0.023142\n",
      "Cost average after iteration 14: 0.018093\n",
      "Cost average after iteration 15: 0.016044\n",
      "Cost average after iteration 16: 0.014317\n",
      "Cost average after iteration 17: 0.009501\n",
      "Cost average after iteration 18: 0.007517\n",
      "Cost average after iteration 19: 0.006366\n"
     ]
    },
    {
     "data": {
      "image/png": "[encoded data removed]",
      "text/plain": [
       "<Figure size 432x288 with 1 Axes>"
      ]
     },
     "metadata": {
      "needs_background": "light"
     },
     "output_type": "display_data"
    }
   ],
   "source": [
    "#Input your layers dimensions and train.\n",
    "layers_dims = [784, 100, 30, 10]\n",
    "\n",
    "parameters_model = L_layer_model(X_train, Y_train, num_epochs=20, layers_dims=layers_dims,\n",
    "                            learning_rate=0.075, mini_batch_size=32,\n",
    "                            print_cost=True)"
   ]
  },
  {
   "cell_type": "code",
   "execution_count": 4,
   "metadata": {
    "scrolled": true
   },
   "outputs": [],
   "source": [
    "Y_hat = predict(X_val, parameters_model)"
   ]
  },
  {
   "cell_type": "code",
   "execution_count": 33,
   "metadata": {
    "scrolled": true
   },
   "outputs": [
    {
     "data": {
      "image/png": "[encoded data removed]",
      "text/plain": [
       "<Figure size 432x288 with 1 Axes>"
      ]
     },
     "metadata": {
      "needs_background": "light"
     },
     "output_type": "display_data"
    },
    {
     "name": "stdout",
     "output_type": "stream",
     "text": [
      "6\n",
      "Model accuracy score: 96.98\n"
     ]
    }
   ],
   "source": [
    "# Print image\n",
    "image_id = 45\n",
    "plt.imshow(X_val[:, image_id].reshape(28, 28), cmap=matplotlib.cm.binary)\n",
    "plt.axis(\"off\")\n",
    "plt.show()\n",
    "Y_hat_label = np.argmax(Y_hat, axis=0)\n",
    "Y_label = np.argmax(Y_val, axis=0)\n",
    "\n",
    "score = 100*accuracy_score(Y_label, Y_hat_label)\n",
    "# Prediction\n",
    "print(Y_hat_label[image_id])\n",
    "\n",
    "print(\"Model accuracy score: %0.2f\" % score)"
   ]
  },
  {
   "cell_type": "code",
   "execution_count": 32,
   "metadata": {},
   "outputs": [
    {
     "name": "stdout",
     "output_type": "stream",
     "text": [
      "[6]\n"
     ]
    },
    {
     "data": {
      "image/png": "[encoded data removed]",
      "text/plain": [
       "<Figure size 432x288 with 1 Axes>"
      ]
     },
     "metadata": {
      "needs_background": "light"
     },
     "output_type": "display_data"
    }
   ],
   "source": [
    "from PIL import Image\n",
    "\n",
    "my_image = \"test.png\" # change this to the name of your image file \n",
    "fname = \"images/\" + my_image\n",
    "\n",
    "\n",
    "# Read image and resize\n",
    "img = Image.open(fname).resize((28,28))\n",
    "# Convert to gray scale and normalization\n",
    "img = 1. - (np.array(img.convert('L')) / 255.)\n",
    "\n",
    "# Show image\n",
    "plt.imshow(img, cmap=matplotlib.cm.binary)\n",
    "\n",
    "# Reshape\n",
    "img = img.reshape(28*28, 1)\n",
    "\n",
    "\n",
    "my_predicted_image = predict(img, parameters_model)\n",
    "my_predicted_image = np.argmax(my_predicted_image, axis=0)\n",
    "print(my_predicted_image)"
   ]
  }
 ],
 "metadata": {
  "colab": {
   "collapsed_sections": [],
   "name": "MNIST-handwritten number.ipynb",
   "provenance": []
  },
  "kernelspec": {
   "display_name": "Python 3",
   "language": "python",
   "name": "python3"
  },
  "language_info": {
   "codemirror_mode": {
    "name": "ipython",
    "version": 3
   },
   "file_extension": ".py",
   "mimetype": "text/x-python",
   "name": "python",
   "nbconvert_exporter": "python",
   "pygments_lexer": "ipython3",
   "version": "3.7.6"
  }
 },
 "nbformat": 4,
 "nbformat_minor": 1
}
