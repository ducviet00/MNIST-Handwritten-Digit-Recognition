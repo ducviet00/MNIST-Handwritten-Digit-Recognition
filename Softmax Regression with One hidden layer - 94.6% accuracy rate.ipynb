{
 "cells": [
  {
   "cell_type": "code",
   "execution_count": 0,
   "metadata": {
    "colab": {},
    "colab_type": "code",
    "id": "uptw010knZtb"
   },
   "outputs": [],
   "source": [
    "import numpy as np \n",
    "import math\n",
    "import pandas as pd\n",
    "import matplotlib.pyplot as plt\n",
    "import matplotlib\n",
    "import sklearn.datasets\n",
    "from sklearn.metrics import accuracy_score, confusion_matrix\n",
    "from sklearn.model_selection import train_test_split\n",
    "import itertools\n",
    "%matplotlib inline"
   ]
  },
  {
   "cell_type": "code",
   "execution_count": 0,
   "metadata": {
    "colab": {},
    "colab_type": "code",
    "id": "b7tbx-y0n9sP"
   },
   "outputs": [],
   "source": [
    "#train = pd.read_csv(\"/content/drive/My Drive/20192/digit-recognizer/train.csv\")\n",
    "test = pd.read_csv(\"/content/drive/My Drive/20192/digit-recognizer/test.csv\")"
   ]
  },
  {
   "cell_type": "code",
   "execution_count": 3,
   "metadata": {
    "colab": {
     "base_uri": "https://localhost:8080/",
     "height": 34
    },
    "colab_type": "code",
    "id": "PJP33AuRoyDo",
    "outputId": "03f041ec-265f-4014-cd6b-aed5681e9ccd"
   },
   "outputs": [
    {
     "name": "stderr",
     "output_type": "stream",
     "text": [
      "Using TensorFlow backend.\n"
     ]
    }
   ],
   "source": [
    "train = pd.read_csv(\"/content/drive/My Drive/20192/digit-recognizer/train.csv\")\n",
    "test = pd.read_csv(\"/content/drive/My Drive/20192/digit-recognizer/test.csv\")\n",
    "\n",
    "Y_train = train[\"label\"]\n",
    "\n",
    "# Drop 'label' column\n",
    "X_train = train.drop(labels = [\"label\"],axis = 1)\n",
    "\n",
    "# Free some space\n",
    "del train\n",
    "\n",
    "# Normalize the data\n",
    "X_train = np.array(X_train) / 255.0\n",
    "# One-hot coding\n",
    "from keras.utils.np_utils import to_categorical\n",
    "Y_train = to_categorical(Y_train, num_classes = 10)\n",
    "X_train, X_val, Y_train, Y_val = train_test_split(X_train, Y_train, test_size = 0.1, random_state=2)"
   ]
  },
  {
   "cell_type": "code",
   "execution_count": 0,
   "metadata": {
    "colab": {},
    "colab_type": "code",
    "id": "kWDfyb0OipTn"
   },
   "outputs": [],
   "source": [
    "# Transpose X, Y\n",
    "X_train = np.array(X_train.T)\n",
    "Y_train = np.array(Y_train.T)\n",
    "X_val = np.array(X_val.T)\n",
    "Y_val = np.array(Y_val.T)"
   ]
  },
  {
   "cell_type": "code",
   "execution_count": 5,
   "metadata": {
    "colab": {
     "base_uri": "https://localhost:8080/",
     "height": 85
    },
    "colab_type": "code",
    "id": "kJUyU9SUwU_u",
    "outputId": "49cbbaf1-0ae3-4029-edc9-0e9f9572c23d"
   },
   "outputs": [
    {
     "name": "stdout",
     "output_type": "stream",
     "text": [
      "X_train.shape = (784, 37800)\n",
      "Y_train.shape = (10, 37800)\n",
      "X_val.shape = (784, 4200)\n",
      "Y_val.shape = (10, 4200)\n"
     ]
    }
   ],
   "source": [
    "# Check shape of X, Y\n",
    "print (\"X_train.shape = \" + str(X_train.shape)\n",
    "        + \"\\nY_train.shape = \" + str(Y_train.shape))\n",
    "print (\"X_val.shape = \" + str(X_val.shape)\n",
    "        + \"\\nY_val.shape = \" + str(Y_val.shape))"
   ]
  },
  {
   "cell_type": "code",
   "execution_count": 6,
   "metadata": {
    "colab": {
     "base_uri": "https://localhost:8080/",
     "height": 68
    },
    "colab_type": "code",
    "id": "konnr2vYiyY2",
    "outputId": "25b64267-76d3-4977-af78-34ccff242d6e"
   },
   "outputs": [
    {
     "name": "stdout",
     "output_type": "stream",
     "text": [
      "number of nodes input layer: 784\n",
      "number of nodes hidden layer: 20\n",
      "number of outputs layer: 10\n"
     ]
    }
   ],
   "source": [
    "n_x = X_train.shape[0] #number of input layer\n",
    "n_h = 20 #number of nodes in hidden layer\n",
    "n_y = Y_train.shape[0] #number of output layer\n",
    "print(\"number of nodes input layer: %d\" %n_x)\n",
    "print(\"number of nodes hidden layer: %d\" %n_h)\n",
    "print(\"number of outputs layer: %d\" %n_y)"
   ]
  },
  {
   "cell_type": "code",
   "execution_count": 0,
   "metadata": {
    "colab": {},
    "colab_type": "code",
    "id": "XGB1FWhwnrBJ"
   },
   "outputs": [],
   "source": [
    "def initialize_parameters(n_x, n_h, n_y):\n",
    "    W1 = np.random.randn(n_h, n_x) * 0.01\n",
    "    b1 = np.zeros((n_h,1))\n",
    "    W2 = np.random.randn(n_y, n_h) * 0.01\n",
    "    b2 = np.zeros((n_y,1))\n",
    "\n",
    "    parameters = {\"W1\" : W1,\n",
    "                  \"b1\" : b1,\n",
    "                  \"W2\" : W2,\n",
    "                  \"b2\" : b2}\n",
    "                    \n",
    "    return parameters"
   ]
  },
  {
   "cell_type": "code",
   "execution_count": 0,
   "metadata": {
    "colab": {},
    "colab_type": "code",
    "id": "wEQVWpCls85s"
   },
   "outputs": [],
   "source": [
    "def theta(Z):\n",
    "    T = np.exp(Z) / np.sum(np.exp(Z), axis = 0)\n",
    "    return T"
   ]
  },
  {
   "cell_type": "code",
   "execution_count": 0,
   "metadata": {
    "colab": {},
    "colab_type": "code",
    "id": "-SA3NK8rFbcw"
   },
   "outputs": [],
   "source": [
    "def relu(Z):\n",
    "    R = np.maximum(0, Z)\n",
    "    return R"
   ]
  },
  {
   "cell_type": "code",
   "execution_count": 0,
   "metadata": {
    "colab": {},
    "colab_type": "code",
    "id": "TiCMjA0dqIXt"
   },
   "outputs": [],
   "source": [
    "def forward_propagation(X, parameters):\n",
    "    W1 = parameters[\"W1\"]\n",
    "    W2 = parameters[\"W2\"]\n",
    "    b1 = parameters[\"b1\"]\n",
    "    b2 = parameters[\"b2\"]\n",
    "    \n",
    "    Z1 = np.dot(W1, X) + b1\n",
    "    A1 = relu(Z1)\n",
    "    Z2 = np.dot(W2, A1) + b2\n",
    "    A2 = theta(Z2)\n",
    "\n",
    "    cache = {\"A1\" : A1,\n",
    "             \"Z1\" : Z1,\n",
    "             \"A2\" : A2,\n",
    "             \"Z2\" : Z2}\n",
    "    return A2, cache"
   ]
  },
  {
   "cell_type": "code",
   "execution_count": 0,
   "metadata": {
    "colab": {},
    "colab_type": "code",
    "id": "QLp38unw0M-b"
   },
   "outputs": [],
   "source": [
    "def compute_cost(A2, Y):\n",
    "    m = Y.shape[1] #number of training examples\n",
    "    loss = - np.sum(np.multiply(Y, np.log(A2)))\n",
    "    cost = loss / m\n",
    "    cost = np.squeeze(cost)  \n",
    "    return cost"
   ]
  },
  {
   "cell_type": "code",
   "execution_count": 0,
   "metadata": {
    "colab": {},
    "colab_type": "code",
    "id": "bVD5SiJ6zuCt"
   },
   "outputs": [],
   "source": [
    "def backward_propagation(X, Y, parameters, cache):\n",
    "    m = X.shape[1]\n",
    "    W1 = parameters[\"W1\"]\n",
    "    W2 = parameters[\"W2\"]\n",
    "    b1 = parameters[\"b1\"]\n",
    "    b2 = parameters[\"b2\"]\n",
    "\n",
    "    A1 = cache[\"A1\"]\n",
    "    A2 = cache[\"A2\"]\n",
    "    Z1 = cache[\"Z1\"]\n",
    "    Z2 = cache[\"Z2\"]\n",
    "\n",
    "\n",
    "    dZ2 = A2 - Y\n",
    "    dW2 = (1 / m) * np.dot(dZ2, A1.T)\n",
    "    db2 = (1 / m) * np.squeeze(np.sum(dZ2, keepdims=True))\n",
    "\n",
    "    dA1 = np.dot(W2.T, dZ2)\n",
    "    dZ1 = np.array(dA1, copy=True)\n",
    "    dZ1[Z1 <= 0 ] = 0\n",
    "    dW1 = (1 / m) * np.dot(dZ1, X.T)\n",
    "    db1 = (1 / m) * np.squeeze(np.sum(dZ1, keepdims=True))\n",
    "    \n",
    "    grads = {\"dW2\" : dW2,\n",
    "             \"db2\" : db2,\n",
    "             \"dW1\" : dW1,\n",
    "             \"db1\" : db1}\n",
    "            \n",
    "    return grads"
   ]
  },
  {
   "cell_type": "code",
   "execution_count": 0,
   "metadata": {
    "colab": {},
    "colab_type": "code",
    "id": "aC6FoBBe2Jee"
   },
   "outputs": [],
   "source": [
    "def update_parameters(parameters, grads, learning_rate = 0.5):\n",
    "    W1 = parameters[\"W1\"]\n",
    "    W2 = parameters[\"W2\"]\n",
    "    b1 = parameters[\"b1\"]\n",
    "    b2 = parameters[\"b2\"]\n",
    "\n",
    "    dW1 = grads[\"dW1\"]\n",
    "    db1 = grads[\"db1\"]\n",
    "    dW2 = grads[\"dW2\"]\n",
    "    db2 = grads[\"db2\"]\n",
    "\n",
    "    W1 = W1 - learning_rate * dW1\n",
    "    b1 = b1 - learning_rate * db1\n",
    "    W2 = W2 - learning_rate * dW2\n",
    "    b2 = b2 - learning_rate * db2\n",
    "\n",
    "    parameters = {\"W1\" : W1,\n",
    "                  \"b1\" : b1,\n",
    "                  \"W2\" : W2,\n",
    "                  \"b2\" : b2}\n",
    "\n",
    "    return parameters"
   ]
  },
  {
   "cell_type": "code",
   "execution_count": 0,
   "metadata": {
    "colab": {},
    "colab_type": "code",
    "id": "c_zTmm_p-f6w"
   },
   "outputs": [],
   "source": [
    "def random_mini_batches(X, Y, mini_batch_size=64, seed=0):\n",
    "    m = X.shape[1]\n",
    "    mini_batches = []\n",
    "    np.random.seed(seed)\n",
    "\n",
    "    # Shuffle (X, Y)\n",
    "    permutation = list(np.random.permutation(m))\n",
    "    shuffled_X = X[:, permutation]\n",
    "    shuffled_Y = Y[:, permutation].reshape((10,m))\n",
    "\n",
    "    num_complete_minibatches = math.floor(m / mini_batch_size) \n",
    "\n",
    "    #Partition \n",
    "    for k in range(0, num_complete_minibatches):\n",
    "        mini_batch_X = shuffled_X[:, k * mini_batch_size:\n",
    "                                  (k+1) * mini_batch_size]\n",
    "        mini_batch_Y = shuffled_Y[:, k * mini_batch_size:(k+1)\n",
    "                                    * mini_batch_size]\n",
    "        mini_batch = (mini_batch_X, mini_batch_Y)\n",
    "        mini_batches.append(mini_batch)\n",
    "\n",
    "    if m % mini_batch_size !=0:\n",
    "        end = m - mini_batch_size * math.floor(m / mini_batch_size)\n",
    "        mini_batch_X = shuffled_X[:, num_complete_minibatches\n",
    "                                    * mini_batch_size:]\n",
    "        mini_batch_Y = shuffled_Y[:, num_complete_minibatches\n",
    "                                    * mini_batch_size:]\n",
    "        mini_batch = (mini_batch_X, mini_batch_Y)\n",
    "        mini_batches.append(mini_batch)\n",
    "\n",
    "    return mini_batches"
   ]
  },
  {
   "cell_type": "code",
   "execution_count": 0,
   "metadata": {
    "colab": {},
    "colab_type": "code",
    "id": "4qPMmvXE2tPT"
   },
   "outputs": [],
   "source": [
    "def sm_model2(X, Y, num_epochs = 3000, learning_rate = 0.5, mini_batch_size = 64, print_cost = False):\n",
    "  parameters = initialize_parameters(n_x, n_h, n_y)\n",
    "  W1 = parameters[\"W1\"]\n",
    "  W2 = parameters[\"W2\"]\n",
    "  b1 = parameters[\"b1\"]\n",
    "  b2 = parameters[\"b2\"]\n",
    "\n",
    "  seed = 10\n",
    "  m = X.shape[1]\n",
    "  costs = []\n",
    "\n",
    "  for i in range(num_epochs):\n",
    "    seed = seed + 1\n",
    "    minibatches = random_mini_batches(X, Y, mini_batch_size, seed)\n",
    "    cost_total = 0\n",
    "\n",
    "    for minibatch in minibatches:\n",
    "      #Select a minibatch\n",
    "      (minibatch_X, minibatch_Y) = minibatch\n",
    "\n",
    "      #foward propagation\n",
    "      A2, cache = forward_propagation(minibatch_X, parameters)\n",
    "\n",
    "      cost_total += compute_cost(A2, minibatch_Y)\n",
    "\n",
    "      grads = backward_propagation(minibatch_X, minibatch_Y, parameters, cache)\n",
    "      #update parameter\n",
    "      parameters = update_parameters(parameters, grads, learning_rate)\n",
    "\n",
    "    cost_avg = cost_total / len(minibatches)\n",
    "    if print_cost and i % 100 == 0:\n",
    "      print (\"Cost after iteration %i: %f\" % (i, cost_avg))\n",
    "    if print_cost and i % 100 == 0:\n",
    "      costs.append(cost_avg)\n",
    "\n",
    "  plt.plot(costs)\n",
    "  plt.ylabel('cost')\n",
    "  plt.xlabel('epochs (per 100)')\n",
    "  plt.title(\"Learning rate = \" + str(learning_rate))\n",
    "  plt.show()\n",
    "  return parameters"
   ]
  },
  {
   "cell_type": "code",
   "execution_count": 0,
   "metadata": {
    "colab": {},
    "colab_type": "code",
    "id": "88yG1ejc4AUr"
   },
   "outputs": [],
   "source": [
    "def predict(parameters, X):\n",
    "  A, cache = forward_propagation(X, parameters)\n",
    "  predictions = np.round(A)\n",
    "  return predictions"
   ]
  },
  {
   "cell_type": "code",
   "execution_count": 18,
   "metadata": {
    "colab": {
     "base_uri": "https://localhost:8080/",
     "height": 720
    },
    "colab_type": "code",
    "id": "8D3gVf_RldHF",
    "outputId": "5949c256-1367-4609-fa5b-42cc0bfb4131"
   },
   "outputs": [
    {
     "name": "stdout",
     "output_type": "stream",
     "text": [
      "Cost after iteration 0: 1.740751\n",
      "Cost after iteration 100: 0.078840\n",
      "Cost after iteration 200: 0.045008\n",
      "Cost after iteration 300: 0.028117\n",
      "Cost after iteration 400: 0.017967\n",
      "Cost after iteration 500: 0.011914\n",
      "Cost after iteration 600: 0.008098\n",
      "Cost after iteration 700: 0.005836\n",
      "Cost after iteration 800: 0.004445\n",
      "Cost after iteration 900: 0.003558\n",
      "Cost after iteration 1000: 0.002943\n",
      "Cost after iteration 1100: 0.002477\n",
      "Cost after iteration 1200: 0.002115\n",
      "Cost after iteration 1300: 0.001860\n",
      "Cost after iteration 1400: 0.001646\n",
      "Cost after iteration 1500: 0.001472\n",
      "Cost after iteration 1600: 0.001323\n",
      "Cost after iteration 1700: 0.001202\n",
      "Cost after iteration 1800: 0.001101\n",
      "Cost after iteration 1900: 0.001015\n",
      "Cost after iteration 2000: 0.000938\n",
      "Cost after iteration 2100: 0.000872\n",
      "Cost after iteration 2200: 0.000814\n",
      "Cost after iteration 2300: 0.000765\n",
      "Cost after iteration 2400: 0.000714\n"
     ]
    },
    {
     "data": {
      "image/png": "[encoded data removed]",
      "text/plain": [
       "<Figure size 432x288 with 1 Axes>"
      ]
     },
     "metadata": {
      "needs_background": "light",
      "tags": []
     },
     "output_type": "display_data"
    }
   ],
   "source": [
    "parameters_model = sm_model2(X_train, Y_train, num_epochs=2500, learning_rate=0.05, mini_batch_size=128, print_cost=True)"
   ]
  },
  {
   "cell_type": "code",
   "execution_count": 21,
   "metadata": {
    "colab": {
     "base_uri": "https://localhost:8080/",
     "height": 282
    },
    "colab_type": "code",
    "id": "mxqgmqain-UP",
    "outputId": "43d6f7bb-4da1-4f04-d4c8-a7dbf4401d0b"
   },
   "outputs": [
    {
     "data": {
      "image/png": "[encoded data removed]",
      "text/plain": [
       "<Figure size 432x288 with 1 Axes>"
      ]
     },
     "metadata": {
      "needs_background": "light",
      "tags": []
     },
     "output_type": "display_data"
    },
    {
     "name": "stdout",
     "output_type": "stream",
     "text": [
      "6\n",
      "6\n"
     ]
    }
   ],
   "source": [
    "Y_hat = predict(parameters_model, X_val)\n",
    "\n",
    "# Print image\n",
    "image_id = 188\n",
    "plt.imshow(X_val[:, image_id].reshape(28,28), cmap=matplotlib.cm.binary)\n",
    "plt.axis(\"off\")\n",
    "plt.show()\n",
    "\n",
    "# Prediction\n",
    "Y_hat_label = np.argmax(Y_hat, axis=0)\n",
    "print(Y_hat_label[image_id])\n",
    "\n",
    "# True label\n",
    "Y_val_label = np.argmax(Y_val, axis=0)\n",
    "print(Y_val_label[image_id])"
   ]
  },
  {
   "cell_type": "code",
   "execution_count": 22,
   "metadata": {
    "colab": {
     "base_uri": "https://localhost:8080/",
     "height": 34
    },
    "colab_type": "code",
    "id": "6xvEVVh2piV2",
    "outputId": "97808d2d-fc9f-4bff-bd0a-0d447b2d5fcb"
   },
   "outputs": [
    {
     "name": "stdout",
     "output_type": "stream",
     "text": [
      "Model accuracy score: 94.64\n"
     ]
    }
   ],
   "source": [
    "score = 100*accuracy_score(Y_val_label, Y_hat_label)\n",
    "print(\"Model accuracy score: %0.2f\" %score)"
   ]
  },
  {
   "cell_type": "code",
   "execution_count": 0,
   "metadata": {
    "colab": {},
    "colab_type": "code",
    "id": "QzNoIQMx2Ain"
   },
   "outputs": [],
   "source": [
    "#Submission on Kaggle\n",
    "X_test = np.array(test.T)/255\n",
    "\n",
    "results = predict(parameters_model, X_test)\n",
    "results = np.argmax(results, axis=0)\n",
    "results = pd.Series(results, name=\"Label\")\n",
    "\n",
    "submission = pd.concat([pd.Series(range(1,28001),name = \"ImageId\"),results],axis = 1)\n",
    "submission.to_csv(\"/content/drive/My Drive/20192/digit-recognizer/softmax_one_hidden_final.csv\",index=False)"
   ]
  }
 ],
 "metadata": {
  "colab": {
   "collapsed_sections": [],
   "name": "Softmax Regression with one hidden layer for detecting MNIST-handwritten number.ipynb",
   "provenance": []
  },
  "kernelspec": {
   "display_name": "Python 3",
   "language": "python",
   "name": "python3"
  },
  "language_info": {
   "codemirror_mode": {
    "name": "ipython",
    "version": 3
   },
   "file_extension": ".py",
   "mimetype": "text/x-python",
   "name": "python",
   "nbconvert_exporter": "python",
   "pygments_lexer": "ipython3",
   "version": "3.7.6"
  }
 },
 "nbformat": 4,
 "nbformat_minor": 1
}
