{
  "nbformat": 4,
  "nbformat_minor": 0,
  "metadata": {
    "colab": {
      "name": "MNIST-handwritten number.ipynb",
      "provenance": [],
      "collapsed_sections": []
    },
    "kernelspec": {
      "name": "python3",
      "display_name": "Python 3"
    }
  },
  "cells": [
    {
      "cell_type": "code",
      "metadata": {
        "id": "uptw010knZtb",
        "colab_type": "code",
        "colab": {}
      },
      "source": [
        "import numpy as np \n",
        "import math\n",
        "import pandas as pd\n",
        "import matplotlib.pyplot as plt\n",
        "import matplotlib\n",
        "import sklearn.datasets\n",
        "from sklearn.metrics import accuracy_score, confusion_matrix\n",
        "from sklearn.model_selection import train_test_split\n",
        "import itertools\n",
        "%matplotlib inline"
      ],
      "execution_count": 0,
      "outputs": []
    },
    {
      "cell_type": "code",
      "metadata": {
        "id": "PJP33AuRoyDo",
        "colab_type": "code",
        "colab": {}
      },
      "source": [
        "train = pd.read_csv(\"/content/drive/My Drive/20192/digit-recognizer/train.csv\")\n",
        "#test = pd.read_csv(\"/content/drive/My Drive/20192/digit-recognizer/test.csv\")\n",
        "\n",
        "Y_train = train[\"label\"]\n",
        "\n",
        "# Drop 'label' column\n",
        "X_train = train.drop(labels = [\"label\"],axis = 1)\n",
        "\n",
        "# Free some space\n",
        "del train\n",
        "\n",
        "# Normalize the data\n",
        "X_train = np.array(X_train) / 255.0\n",
        "# One-hot coding\n",
        "from keras.utils.np_utils import to_categorical\n",
        "Y_train = to_categorical(Y_train, num_classes = 10)\n",
        "X_train, X_val, Y_train, Y_val = train_test_split(X_train, Y_train, test_size = 0.1, random_state=2)"
      ],
      "execution_count": 0,
      "outputs": []
    },
    {
      "cell_type": "code",
      "metadata": {
        "id": "kWDfyb0OipTn",
        "colab_type": "code",
        "colab": {}
      },
      "source": [
        "# Transpose X, Y\n",
        "X_train = np.array(X_train.T)\n",
        "Y_train = np.array(Y_train.T)\n",
        "X_val = np.array(X_val.T)\n",
        "Y_val = np.array(Y_val.T)"
      ],
      "execution_count": 0,
      "outputs": []
    },
    {
      "cell_type": "code",
      "metadata": {
        "id": "kJUyU9SUwU_u",
        "colab_type": "code",
        "colab": {
          "base_uri": "https://localhost:8080/",
          "height": 85
        },
        "outputId": "5f430a16-418f-4353-894d-b73f9a194992"
      },
      "source": [
        "# Check shape of X, Y\n",
        "print (\"X_train.shape = \" + str(X_train.shape)\n",
        "        + \"\\nY_train.shape = \" + str(Y_train.shape))\n",
        "print (\"X_val.shape = \" + str(X_val.shape)\n",
        "        + \"\\nY_val.shape = \" + str(Y_val.shape))"
      ],
      "execution_count": 4,
      "outputs": [
        {
          "output_type": "stream",
          "text": [
            "X_train.shape = (784, 37800)\n",
            "Y_train.shape = (10, 37800)\n",
            "X_val.shape = (784, 4200)\n",
            "Y_val.shape = (10, 4200)\n"
          ],
          "name": "stdout"
        }
      ]
    },
    {
      "cell_type": "code",
      "metadata": {
        "id": "konnr2vYiyY2",
        "colab_type": "code",
        "colab": {}
      },
      "source": [
        "# Define the number of the nodes in the input layer and output layer\n",
        "n_x = X_train.shape[0]\n",
        "n_y = Y_train.shape[0]"
      ],
      "execution_count": 0,
      "outputs": []
    },
    {
      "cell_type": "code",
      "metadata": {
        "id": "XGB1FWhwnrBJ",
        "colab_type": "code",
        "colab": {}
      },
      "source": [
        "def initialize_parameters(n_x, n_y):\n",
        "  W = np.random.randn(n_y, n_x) * 0.01\n",
        "  b = np.zeros(shape=(n_y,1))\n",
        "  \n",
        "  parameters = {\"W\" : W,\n",
        "                \"b\" : b}\n",
        "  return parameters"
      ],
      "execution_count": 0,
      "outputs": []
    },
    {
      "cell_type": "code",
      "metadata": {
        "id": "wEQVWpCls85s",
        "colab_type": "code",
        "colab": {}
      },
      "source": [
        "def theta(z):\n",
        "  s = np.exp(z) / np.sum(np.exp(z), axis=0)\n",
        "  return s"
      ],
      "execution_count": 0,
      "outputs": []
    },
    {
      "cell_type": "code",
      "metadata": {
        "id": "TiCMjA0dqIXt",
        "colab_type": "code",
        "colab": {}
      },
      "source": [
        "def forward_propagation(X, parameters_X):\n",
        "    W = parameters_X[\"W\"]\n",
        "    b = parameters_X[\"b\"]\n",
        "\n",
        "    Z = np.dot(W, X) + b\n",
        "    A = theta(Z)\n",
        "\n",
        "    cache = {\"A\" : A,\n",
        "             \"Z\" : Z}\n",
        "    return A, cache"
      ],
      "execution_count": 0,
      "outputs": []
    },
    {
      "cell_type": "code",
      "metadata": {
        "id": "QLp38unw0M-b",
        "colab_type": "code",
        "colab": {}
      },
      "source": [
        "def compute_cost(A, Y):\n",
        "    m = Y.shape[1]      #number of training examples\n",
        "    loss = - np.sum(np.multiply(Y, np.log(A)))\n",
        "    cost = loss / m\n",
        "    cost = np.squeeze(cost)  \n",
        "\n",
        "    return cost"
      ],
      "execution_count": 0,
      "outputs": []
    },
    {
      "cell_type": "code",
      "metadata": {
        "id": "bVD5SiJ6zuCt",
        "colab_type": "code",
        "colab": {}
      },
      "source": [
        "def backward_propagation(X, Y, parameters, cache):\n",
        "    W = parameters[\"W\"]\n",
        "    b = parameters[\"b\"]\n",
        "    A = cache[\"A\"]\n",
        "    m = X.shape[1]\n",
        "\n",
        "    dZ = A - Y\n",
        "    dW = (1 / m) * np.dot(dZ, X.T)\n",
        "    db = (1 / m) * np.squeeze(np.sum(dZ, keepdims=True))\n",
        "    \n",
        "    grads = {\"dW\" : dW,\n",
        "            \"db\" : db}\n",
        "    return grads"
      ],
      "execution_count": 0,
      "outputs": []
    },
    {
      "cell_type": "code",
      "metadata": {
        "id": "aC6FoBBe2Jee",
        "colab_type": "code",
        "colab": {}
      },
      "source": [
        "def update_parameters(parameters, grads, learning_rate = 0.5):\n",
        "    W = parameters[\"W\"]\n",
        "    b = parameters[\"b\"]\n",
        "\n",
        "    dW = grads[\"dW\"]\n",
        "    db = grads[\"db\"]\n",
        "\n",
        "    W = W - learning_rate * dW\n",
        "    b = b - learning_rate * db\n",
        "\n",
        "    parameters = {\"W\" : W,\n",
        "                  \"b\" : b}\n",
        "\n",
        "    return parameters"
      ],
      "execution_count": 0,
      "outputs": []
    },
    {
      "cell_type": "code",
      "metadata": {
        "id": "c_zTmm_p-f6w",
        "colab_type": "code",
        "colab": {}
      },
      "source": [
        "def random_mini_batches(X, Y, mini_batch_size=64, seed=0):\n",
        "    m = X.shape[1]\n",
        "    mini_batches = []\n",
        "    np.random.seed(seed)\n",
        "\n",
        "    # Shuffle (X, Y)\n",
        "    permutation = list(np.random.permutation(m))\n",
        "    shuffled_X = X[:, permutation]\n",
        "    shuffled_Y = Y[:, permutation].reshape((10,m))\n",
        "\n",
        "    num_complete_minibatches = math.floor(m / mini_batch_size) \n",
        "\n",
        "    #Partition \n",
        "    for k in range(0, num_complete_minibatches):\n",
        "        mini_batch_X = shuffled_X[:, k * mini_batch_size:(k+1) \n",
        "                                    * mini_batch_size]\n",
        "        mini_batch_Y = shuffled_Y[:, k * mini_batch_size:(k+1)\n",
        "                                    * mini_batch_size]\n",
        "        mini_batch = (mini_batch_X, mini_batch_Y)\n",
        "        mini_batches.append(mini_batch)\n",
        "\n",
        "    if m % mini_batch_size !=0:\n",
        "        end = m - mini_batch_size * math.floor(m / mini_batch_size)\n",
        "        mini_batch_X = shuffled_X[:, num_complete_minibatches\n",
        "                                    * mini_batch_size:]\n",
        "        mini_batch_Y = shuffled_Y[:, num_complete_minibatches\n",
        "                                    * mini_batch_size:]\n",
        "        mini_batch = (mini_batch_X, mini_batch_Y)\n",
        "        mini_batches.append(mini_batch)\n",
        "\n",
        "    return mini_batches\n"
      ],
      "execution_count": 0,
      "outputs": []
    },
    {
      "cell_type": "code",
      "metadata": {
        "id": "4qPMmvXE2tPT",
        "colab_type": "code",
        "colab": {}
      },
      "source": [
        "def sm_model(X, Y, num_epochs=10000, learning_rate=0.05, mini_batch_size=64, \n",
        "             print_cost=False):\n",
        "    parameters = initialize_parameters(n_x, n_y)\n",
        "    W = parameters[\"W\"]\n",
        "    b = parameters[\"b\"]\n",
        "    seed = 14\n",
        "    m = X.shape[1]\n",
        "    costs = []\n",
        "\n",
        "    for i in range(num_epochs):\n",
        "        seed = seed + 1\n",
        "        minibatches = random_mini_batches(X, Y, mini_batch_size, seed)\n",
        "        cost_total = 0\n",
        "\n",
        "        for minibatch in minibatches:\n",
        "            #Select a minibatch\n",
        "            (minibatch_X, minibatch_Y) = minibatch\n",
        "\n",
        "            #foward propagation\n",
        "            A, cache = forward_propagation(minibatch_X, parameters)\n",
        "\n",
        "            cost_total += compute_cost(A, minibatch_Y)\n",
        "            #backward propagation\n",
        "            grads = backward_propagation(minibatch_X, minibatch_Y, parameters,\n",
        "                                         cache)\n",
        "\n",
        "            #update parameter\n",
        "            parameters = update_parameters(parameters, grads, learning_rate)\n",
        "\n",
        "        cost_avg = cost_total / len(minibatches)\n",
        "        if (print_cost and i%100 == 0):\n",
        "            print (\"Cost after iteration %i: %f\" % (i, cost_avg))\n",
        "        if (print_cost and i%100 == 0):\n",
        "            costs.append(cost_avg)\n",
        "\n",
        "    plt.plot(costs)\n",
        "    plt.ylabel('cost')\n",
        "    plt.xlabel('epochs (per 100)')\n",
        "    plt.title(\"Learning rate = \" + str(learning_rate))\n",
        "    plt.show()\n",
        "    return parameters"
      ],
      "execution_count": 0,
      "outputs": []
    },
    {
      "cell_type": "code",
      "metadata": {
        "id": "88yG1ejc4AUr",
        "colab_type": "code",
        "colab": {}
      },
      "source": [
        "def predict(parameters, X):\n",
        "    A, cache = forward_propagation(X, parameters)\n",
        "    predictions = np.round(A)\n",
        "    return predictions"
      ],
      "execution_count": 0,
      "outputs": []
    },
    {
      "cell_type": "code",
      "metadata": {
        "id": "8D3gVf_RldHF",
        "colab_type": "code",
        "colab": {
          "base_uri": "https://localhost:8080/",
          "height": 720
        },
        "outputId": "1b71cef8-81ed-452c-d5ea-ca89c4d593d9"
      },
      "source": [
        "parameters_model = sm_model(X_train, Y_train, num_epochs=2500,\n",
        "                            learning_rate=0.05, mini_batch_size=128,\n",
        "                            print_cost=True)"
      ],
      "execution_count": 15,
      "outputs": [
        {
          "output_type": "stream",
          "text": [
            "Cost after iteration 0: 0.828849\n",
            "Cost after iteration 100: 0.255821\n",
            "Cost after iteration 200: 0.242088\n",
            "Cost after iteration 300: 0.234047\n",
            "Cost after iteration 400: 0.229026\n",
            "Cost after iteration 500: 0.224898\n",
            "Cost after iteration 600: 0.222467\n",
            "Cost after iteration 700: 0.219861\n",
            "Cost after iteration 800: 0.217531\n",
            "Cost after iteration 900: 0.215874\n",
            "Cost after iteration 1000: 0.213842\n",
            "Cost after iteration 1100: 0.212534\n",
            "Cost after iteration 1200: 0.211146\n",
            "Cost after iteration 1300: 0.210301\n",
            "Cost after iteration 1400: 0.209053\n",
            "Cost after iteration 1500: 0.208395\n",
            "Cost after iteration 1600: 0.207476\n",
            "Cost after iteration 1700: 0.206503\n",
            "Cost after iteration 1800: 0.206133\n",
            "Cost after iteration 1900: 0.205038\n",
            "Cost after iteration 2000: 0.203963\n",
            "Cost after iteration 2100: 0.203334\n",
            "Cost after iteration 2200: 0.203323\n",
            "Cost after iteration 2300: 0.202342\n",
            "Cost after iteration 2400: 0.202377\n"
          ],
          "name": "stdout"
        },
        {
          "output_type": "display_data",
          "data": {
            "image/png": "[encoded data removed]",
            "text/plain": [
              "<Figure size 432x288 with 1 Axes>"
            ]
          },
          "metadata": {
            "tags": [],
            "needs_background": "light"
          }
        }
      ]
    },
    {
      "cell_type": "code",
      "metadata": {
        "id": "mxqgmqain-UP",
        "colab_type": "code",
        "colab": {
          "base_uri": "https://localhost:8080/",
          "height": 282
        },
        "outputId": "e2fe2fa0-f017-4e97-fb24-035603f57257"
      },
      "source": [
        "Y_hat = predict(parameters_model, X_val)\n",
        "\n",
        "# Print image\n",
        "image_id = 188\n",
        "plt.imshow(X_val[:, image_id].reshape(28,28), cmap=matplotlib.cm.binary)\n",
        "plt.axis(\"off\")\n",
        "plt.show()\n",
        "\n",
        "# Prediction\n",
        "Y_hat_label = np.argmax(Y_hat, axis=0)\n",
        "print(Y_hat_label[image_id])\n",
        "\n",
        "# True label\n",
        "Y_val_label = np.argmax(Y_val, axis=0)\n",
        "print(Y_val_label[image_id])\n"
      ],
      "execution_count": 37,
      "outputs": [
        {
          "output_type": "display_data",
          "data": {
            "image/png": "[encoded data removed]",
            "text/plain": [
              "<Figure size 432x288 with 1 Axes>"
            ]
          },
          "metadata": {
            "tags": [],
            "needs_background": "light"
          }
        },
        {
          "output_type": "stream",
          "text": [
            "6\n",
            "6\n"
          ],
          "name": "stdout"
        }
      ]
    },
    {
      "cell_type": "code",
      "metadata": {
        "id": "P-ySPdjmUjvv",
        "colab_type": "code",
        "colab": {
          "base_uri": "https://localhost:8080/",
          "height": 34
        },
        "outputId": "124080c0-64f6-4132-cfd0-95a835e50feb"
      },
      "source": [
        "# Prediction accuracy\n",
        "score = 100 * accuracy_score(Y_val_label, Y_hat_label)\n",
        "print(\"Model accuracy score: %0.2f\" %score)"
      ],
      "execution_count": 38,
      "outputs": [
        {
          "output_type": "stream",
          "text": [
            "Model accuracy score: 90.98\n"
          ],
          "name": "stdout"
        }
      ]
    }
  ]
}